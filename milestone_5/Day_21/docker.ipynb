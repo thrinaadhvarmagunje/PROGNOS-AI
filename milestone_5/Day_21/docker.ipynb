{
 "cells": [
  {
   "cell_type": "markdown",
   "id": "9d0fe0bd",
   "metadata": {},
   "source": [
    "### Introduction to Docker and Containerization\n",
    "\n",
    "```Docker``` is a platform that allows you to package, distribute, and run applications in isolated environments called containers. Containers include everything needed to run your app (code, runtime, libraries, and dependencies), making them lightweight and portable across different computing environments."
   ]
  },
  {
   "cell_type": "markdown",
   "id": "088d0762",
   "metadata": {},
   "source": [
    "- **What is Containerization?**\n",
    "\n",
    "Containerization is a method that isolates applications into separate user-space instances called containers. Unlike traditional virtual machines, containers share the host OS kernel but keep their own filesystem and dependencies, resulting in better resource efficiency and faster startup"
   ]
  },
  {
   "cell_type": "markdown",
   "id": "3a92828d",
   "metadata": {},
   "source": [
    "#### **Docker Example:**\n",
    "\n",
    "**Step 1**: Simple Python Streamlit App\n",
    "\n",
    "- Let's start by creating a minimal Streamlit web app.\n",
    "\n",
    "- Create a file called ``app.py`` with this code:"
   ]
  },
  {
   "cell_type": "code",
   "execution_count": null,
   "id": "4a07ab06",
   "metadata": {},
   "outputs": [],
   "source": [
    "import streamlit as st\n",
    "st.title('Hello from Streamlit in Docker!')\n",
    "st.write('This is a simple web app running inside a Docker container.')"
   ]
  },
  {
   "cell_type": "markdown",
   "id": "fe9092db",
   "metadata": {},
   "source": [
    "This app shows a title and some text."
   ]
  },
  {
   "cell_type": "markdown",
   "id": "1befa6ba",
   "metadata": {},
   "source": [
    "**Step 2**: Create requirements text file\n",
    "\n",
    "Create a file named ``requirements.txt`` with the Python dependencies listed:"
   ]
  },
  {
   "cell_type": "raw",
   "id": "101db51a",
   "metadata": {
    "vscode": {
     "languageId": "raw"
    }
   },
   "source": [
    "streamlit"
   ]
  },
  {
   "cell_type": "markdown",
   "id": "154d54d5",
   "metadata": {},
   "source": [
    "This makes dependency management better and Docker caching more efficient."
   ]
  },
  {
   "cell_type": "markdown",
   "id": "4981dc58",
   "metadata": {},
   "source": [
    "**Step 3**: Prepare the Dockerfile\n",
    "\n",
    "- A Dockerfile describes how the Docker image (container blueprint) is built.\n",
    "\n",
    "- Create a file named ``Dockerfile`` alongside ``app.py`` with these contents:"
   ]
  },
  {
   "cell_type": "code",
   "execution_count": null,
   "id": "04ca7fee",
   "metadata": {},
   "outputs": [],
   "source": [
    "# Use official Python image as base\n",
    "FROM python:3.11-slim\n",
    "\n",
    "# Set working directory inside container\n",
    "WORKDIR /app\n",
    "\n",
    "# Copy app code and requirements file\n",
    "COPY app.py ./\n",
    "COPY requirements.txt ./\n",
    "\n",
    "# Install dependencies from requirements.txt\n",
    "RUN pip install -r requirements.txt\n",
    "\n",
    "# Expose port 9001 (default Streamlit port)\n",
    "EXPOSE 9001\n",
    "\n",
    "# Command to run the app\n",
    "CMD [\"streamlit\", \"run\", \"app.py\", \"--server.port=9001\", \"--server.address=0.0.0.0\"]"
   ]
  },
  {
   "cell_type": "markdown",
   "id": "fd1ae40c",
   "metadata": {},
   "source": [
    "**Explanation**:\n",
    "\n",
    "- ``FROM`` sets Python base image.\n",
    "\n",
    "- ``WORKDIR /app`` creates and switches to ``/app`` folder in container.\n",
    "\n",
    "- ``COPY app.py ./`` copies local ``app.py`` inside container.\n",
    "\n",
    "- ``RUN pip install -r requirements.txt`` installs listed libraries in that text file.\n",
    "\n",
    "- ``EXPOSE 9001`` exposes port.\n",
    "\n",
    "- ``CMD`` runs streamlit server, accessible on all interfaces."
   ]
  },
  {
   "cell_type": "markdown",
   "id": "452248cb",
   "metadata": {},
   "source": [
    "**Step 4**: Build the Docker Image\n",
    "\n",
    "Open terminal in the folder containing app.py and Dockerfile. Run:"
   ]
  },
  {
   "cell_type": "code",
   "execution_count": null,
   "id": "72ac1a54",
   "metadata": {
    "vscode": {
     "languageId": "powershell"
    }
   },
   "outputs": [],
   "source": [
    "docker build -t my-streamlit-app ."
   ]
  },
  {
   "cell_type": "markdown",
   "id": "9f0e3e1c",
   "metadata": {},
   "source": [
    "- ``docker`` build creates a container image.\n",
    "\n",
    "- ``-t my-streamlit-app`` tags the image.\n",
    "\n",
    "- ``.`` tells Docker to use current directory."
   ]
  },
  {
   "cell_type": "markdown",
   "id": "8fab8ed7",
   "metadata": {},
   "source": [
    "**Step 5**: Run the Docker Container\n",
    "\n",
    "Start container with:"
   ]
  },
  {
   "cell_type": "code",
   "execution_count": null,
   "id": "7935d9af",
   "metadata": {
    "vscode": {
     "languageId": "powershell"
    }
   },
   "outputs": [],
   "source": [
    "docker run -p 9001:9001 my-streamlit-app"
   ]
  },
  {
   "cell_type": "markdown",
   "id": "8eb1f350",
   "metadata": {},
   "source": [
    "- ``-p 9001:9001`` maps container’s port 8502 to your machine.\n",
    "\n",
    "- Now open browser at ``http://localhost:9001`` to see your app!"
   ]
  },
  {
   "cell_type": "markdown",
   "id": "b5f76a17",
   "metadata": {},
   "source": [
    "### Essential Docker Commands\n",
    "\n",
    "Here’s a list of common Docker commands related to building and running your Streamlit app container, along with clear explanations:"
   ]
  },
  {
   "cell_type": "markdown",
   "id": "bf593d1f",
   "metadata": {},
   "source": [
    "1. ``docker images``\n",
    "\n",
    "- Lists all Docker images you have locally."
   ]
  },
  {
   "cell_type": "code",
   "execution_count": null,
   "id": "07ee8bc3",
   "metadata": {
    "vscode": {
     "languageId": "bat"
    }
   },
   "outputs": [],
   "source": [
    "docker images"
   ]
  },
  {
   "cell_type": "markdown",
   "id": "2fa4db89",
   "metadata": {},
   "source": [
    "- See your newly built ``my-streamlit-app`` image listed here."
   ]
  },
  {
   "cell_type": "markdown",
   "id": "61a4e2e1",
   "metadata": {},
   "source": [
    "2. ``docker ps``\n",
    "\n",
    "- Shows running containers."
   ]
  },
  {
   "cell_type": "code",
   "execution_count": null,
   "id": "bb77f9d4",
   "metadata": {
    "vscode": {
     "languageId": "bat"
    }
   },
   "outputs": [],
   "source": [
    "docker ps"
   ]
  },
  {
   "cell_type": "markdown",
   "id": "c866055b",
   "metadata": {},
   "source": [
    "- Check if your container is running and see its ID, ports, and more."
   ]
  },
  {
   "cell_type": "markdown",
   "id": "9a38496e",
   "metadata": {},
   "source": [
    "3. docker stop\n",
    "\n",
    "- Stops a running container."
   ]
  },
  {
   "cell_type": "code",
   "execution_count": null,
   "id": "7b781ecf",
   "metadata": {
    "vscode": {
     "languageId": "bat"
    }
   },
   "outputs": [],
   "source": [
    "docker stop <container_id>"
   ]
  },
  {
   "cell_type": "markdown",
   "id": "242b5231",
   "metadata": {},
   "source": [
    "- Replace ``<container_id>`` with the actual container ID found from ``docker ps``."
   ]
  },
  {
   "cell_type": "markdown",
   "id": "ab691515",
   "metadata": {},
   "source": [
    "4. ``docker rm``\n",
    "\n",
    "- Removes a stopped container to free resources."
   ]
  },
  {
   "cell_type": "code",
   "execution_count": null,
   "id": "8689d8b4",
   "metadata": {
    "vscode": {
     "languageId": "bat"
    }
   },
   "outputs": [],
   "source": [
    "docker rm <container_id>"
   ]
  },
  {
   "cell_type": "markdown",
   "id": "6cf36f24",
   "metadata": {},
   "source": [
    "- Useful to clean up containers you no longer need."
   ]
  },
  {
   "cell_type": "markdown",
   "id": "5c615024",
   "metadata": {},
   "source": [
    "5. ``docker rmi``\n",
    "\n",
    "- Removes a Docker image from your system."
   ]
  },
  {
   "cell_type": "code",
   "execution_count": null,
   "id": "23ccceb9",
   "metadata": {
    "vscode": {
     "languageId": "bat"
    }
   },
   "outputs": [],
   "source": [
    "docker rmi my-streamlit-app"
   ]
  },
  {
   "cell_type": "markdown",
   "id": "346617aa",
   "metadata": {},
   "source": [
    "- Removes the ``my-streamlit-app`` image."
   ]
  },
  {
   "cell_type": "markdown",
   "id": "ba0c80d1",
   "metadata": {},
   "source": [
    "6. Run Container in Detached Mode\n",
    "\n",
    "- Run the container in the background (detached) so you get your terminal back immediately:"
   ]
  },
  {
   "cell_type": "code",
   "execution_count": null,
   "id": "0fd375ad",
   "metadata": {
    "vscode": {
     "languageId": "bat"
    }
   },
   "outputs": [],
   "source": [
    "docker run -d -p 9001:9001 my-streamlit-app"
   ]
  },
  {
   "cell_type": "markdown",
   "id": "276648a0",
   "metadata": {},
   "source": [
    "- ``-d`` runs the container detached (in the background).\n",
    "\n",
    "- You will see the container ID output, and the app runs in background.\n",
    "\n",
    "- Then you can run other Docker commands in the terminal."
   ]
  }
 ],
 "metadata": {
  "kernelspec": {
   "display_name": "Python 3",
   "language": "python",
   "name": "python3"
  },
  "language_info": {
   "name": "python",
   "version": "3.11.9"
  }
 },
 "nbformat": 4,
 "nbformat_minor": 5
}
