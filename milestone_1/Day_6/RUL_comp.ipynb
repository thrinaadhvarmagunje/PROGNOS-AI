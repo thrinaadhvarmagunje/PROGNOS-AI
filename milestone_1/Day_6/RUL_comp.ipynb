{
 "cells": [
  {
   "cell_type": "markdown",
   "id": "978d753c",
   "metadata": {},
   "source": [
    "### RUL Target Computation & Documentatio"
   ]
  },
  {
   "cell_type": "code",
   "execution_count": 3,
   "id": "5870e5e8",
   "metadata": {},
   "outputs": [],
   "source": [
    "import pandas as pd\n",
    "import numpy as np"
   ]
  },
  {
   "cell_type": "code",
   "execution_count": 4,
   "id": "1a40deac",
   "metadata": {},
   "outputs": [
    {
     "name": "stdout",
     "output_type": "stream",
     "text": [
      "Loaded rolling window sequences with shape: (17631, 30, 66)\n"
     ]
    }
   ],
   "source": [
    "# 1. Load rolling windows sequence (NumPy array)\n",
    "sequences = np.load('rolling_window_sequences.npy')\n",
    "print(f\"Loaded rolling window sequences with shape: {sequences.shape}\")"
   ]
  },
  {
   "cell_type": "code",
   "execution_count": 5,
   "id": "269d5045",
   "metadata": {},
   "outputs": [
    {
     "name": "stdout",
     "output_type": "stream",
     "text": [
      "Loaded sequence metadata with shape: (17631, 2)\n"
     ]
    },
    {
     "data": {
      "text/html": [
       "<div>\n",
       "<style scoped>\n",
       "    .dataframe tbody tr th:only-of-type {\n",
       "        vertical-align: middle;\n",
       "    }\n",
       "\n",
       "    .dataframe tbody tr th {\n",
       "        vertical-align: top;\n",
       "    }\n",
       "\n",
       "    .dataframe thead th {\n",
       "        text-align: right;\n",
       "    }\n",
       "</style>\n",
       "<table border=\"1\" class=\"dataframe\">\n",
       "  <thead>\n",
       "    <tr style=\"text-align: right;\">\n",
       "      <th></th>\n",
       "      <th>engine_id</th>\n",
       "      <th>cycle</th>\n",
       "    </tr>\n",
       "  </thead>\n",
       "  <tbody>\n",
       "    <tr>\n",
       "      <th>0</th>\n",
       "      <td>1</td>\n",
       "      <td>31.0</td>\n",
       "    </tr>\n",
       "    <tr>\n",
       "      <th>1</th>\n",
       "      <td>1</td>\n",
       "      <td>32.0</td>\n",
       "    </tr>\n",
       "    <tr>\n",
       "      <th>2</th>\n",
       "      <td>1</td>\n",
       "      <td>33.0</td>\n",
       "    </tr>\n",
       "    <tr>\n",
       "      <th>3</th>\n",
       "      <td>1</td>\n",
       "      <td>34.0</td>\n",
       "    </tr>\n",
       "    <tr>\n",
       "      <th>4</th>\n",
       "      <td>1</td>\n",
       "      <td>35.0</td>\n",
       "    </tr>\n",
       "  </tbody>\n",
       "</table>\n",
       "</div>"
      ],
      "text/plain": [
       "   engine_id  cycle\n",
       "0          1   31.0\n",
       "1          1   32.0\n",
       "2          1   33.0\n",
       "3          1   34.0\n",
       "4          1   35.0"
      ]
     },
     "execution_count": 5,
     "metadata": {},
     "output_type": "execute_result"
    }
   ],
   "source": [
    "# 2. Load sequence metadata (engine_id, cycle)\n",
    "metadata_df = pd.read_csv('sequence_metadata.csv')\n",
    "print(f\"Loaded sequence metadata with shape: {metadata_df.shape}\")\n",
    "metadata_df.head()"
   ]
  },
  {
   "cell_type": "code",
   "execution_count": 6,
   "id": "eb5c943f",
   "metadata": {},
   "outputs": [
    {
     "data": {
      "text/html": [
       "<div>\n",
       "<style scoped>\n",
       "    .dataframe tbody tr th:only-of-type {\n",
       "        vertical-align: middle;\n",
       "    }\n",
       "\n",
       "    .dataframe tbody tr th {\n",
       "        vertical-align: top;\n",
       "    }\n",
       "\n",
       "    .dataframe thead th {\n",
       "        text-align: right;\n",
       "    }\n",
       "</style>\n",
       "<table border=\"1\" class=\"dataframe\">\n",
       "  <thead>\n",
       "    <tr style=\"text-align: right;\">\n",
       "      <th></th>\n",
       "      <th>engine_id</th>\n",
       "      <th>max_cycle</th>\n",
       "    </tr>\n",
       "  </thead>\n",
       "  <tbody>\n",
       "    <tr>\n",
       "      <th>0</th>\n",
       "      <td>1</td>\n",
       "      <td>192.0</td>\n",
       "    </tr>\n",
       "    <tr>\n",
       "      <th>1</th>\n",
       "      <td>2</td>\n",
       "      <td>287.0</td>\n",
       "    </tr>\n",
       "    <tr>\n",
       "      <th>2</th>\n",
       "      <td>3</td>\n",
       "      <td>179.0</td>\n",
       "    </tr>\n",
       "    <tr>\n",
       "      <th>3</th>\n",
       "      <td>4</td>\n",
       "      <td>189.0</td>\n",
       "    </tr>\n",
       "    <tr>\n",
       "      <th>4</th>\n",
       "      <td>5</td>\n",
       "      <td>269.0</td>\n",
       "    </tr>\n",
       "  </tbody>\n",
       "</table>\n",
       "</div>"
      ],
      "text/plain": [
       "   engine_id  max_cycle\n",
       "0          1      192.0\n",
       "1          2      287.0\n",
       "2          3      179.0\n",
       "3          4      189.0\n",
       "4          5      269.0"
      ]
     },
     "execution_count": 6,
     "metadata": {},
     "output_type": "execute_result"
    }
   ],
   "source": [
    "# 3. Calculate Remaining Useful Life (RUL) per sequence\n",
    "\n",
    "# Find max cycle per engine in metadata\n",
    "max_cycle_per_engine = metadata_df.groupby('engine_id')['cycle'].max().reset_index()\n",
    "max_cycle_per_engine.columns = ['engine_id', 'max_cycle']\n",
    "max_cycle_per_engine.head()"
   ]
  },
  {
   "cell_type": "code",
   "execution_count": 7,
   "id": "6a894608",
   "metadata": {},
   "outputs": [
    {
     "data": {
      "text/html": [
       "<div>\n",
       "<style scoped>\n",
       "    .dataframe tbody tr th:only-of-type {\n",
       "        vertical-align: middle;\n",
       "    }\n",
       "\n",
       "    .dataframe tbody tr th {\n",
       "        vertical-align: top;\n",
       "    }\n",
       "\n",
       "    .dataframe thead th {\n",
       "        text-align: right;\n",
       "    }\n",
       "</style>\n",
       "<table border=\"1\" class=\"dataframe\">\n",
       "  <thead>\n",
       "    <tr style=\"text-align: right;\">\n",
       "      <th></th>\n",
       "      <th>engine_id</th>\n",
       "      <th>cycle</th>\n",
       "      <th>max_cycle</th>\n",
       "    </tr>\n",
       "  </thead>\n",
       "  <tbody>\n",
       "    <tr>\n",
       "      <th>0</th>\n",
       "      <td>1</td>\n",
       "      <td>31.0</td>\n",
       "      <td>192.0</td>\n",
       "    </tr>\n",
       "    <tr>\n",
       "      <th>1</th>\n",
       "      <td>1</td>\n",
       "      <td>32.0</td>\n",
       "      <td>192.0</td>\n",
       "    </tr>\n",
       "    <tr>\n",
       "      <th>2</th>\n",
       "      <td>1</td>\n",
       "      <td>33.0</td>\n",
       "      <td>192.0</td>\n",
       "    </tr>\n",
       "    <tr>\n",
       "      <th>3</th>\n",
       "      <td>1</td>\n",
       "      <td>34.0</td>\n",
       "      <td>192.0</td>\n",
       "    </tr>\n",
       "    <tr>\n",
       "      <th>4</th>\n",
       "      <td>1</td>\n",
       "      <td>35.0</td>\n",
       "      <td>192.0</td>\n",
       "    </tr>\n",
       "  </tbody>\n",
       "</table>\n",
       "</div>"
      ],
      "text/plain": [
       "   engine_id  cycle  max_cycle\n",
       "0          1   31.0      192.0\n",
       "1          1   32.0      192.0\n",
       "2          1   33.0      192.0\n",
       "3          1   34.0      192.0\n",
       "4          1   35.0      192.0"
      ]
     },
     "execution_count": 7,
     "metadata": {},
     "output_type": "execute_result"
    }
   ],
   "source": [
    "# Merge max cycle info with metadata\n",
    "metadata_df = metadata_df.merge(max_cycle_per_engine, on='engine_id', how='left')\n",
    "metadata_df.head()\n"
   ]
  },
  {
   "cell_type": "code",
   "execution_count": 8,
   "id": "b64230d2",
   "metadata": {},
   "outputs": [],
   "source": [
    "\n",
    "# Compute RUL\n",
    "metadata_df['RUL'] = metadata_df['max_cycle'] - metadata_df['cycle']"
   ]
  },
  {
   "cell_type": "code",
   "execution_count": 9,
   "id": "654d351d",
   "metadata": {},
   "outputs": [
    {
     "data": {
      "text/html": [
       "<div>\n",
       "<style scoped>\n",
       "    .dataframe tbody tr th:only-of-type {\n",
       "        vertical-align: middle;\n",
       "    }\n",
       "\n",
       "    .dataframe tbody tr th {\n",
       "        vertical-align: top;\n",
       "    }\n",
       "\n",
       "    .dataframe thead th {\n",
       "        text-align: right;\n",
       "    }\n",
       "</style>\n",
       "<table border=\"1\" class=\"dataframe\">\n",
       "  <thead>\n",
       "    <tr style=\"text-align: right;\">\n",
       "      <th></th>\n",
       "      <th>engine_id</th>\n",
       "      <th>cycle</th>\n",
       "      <th>max_cycle</th>\n",
       "      <th>RUL</th>\n",
       "    </tr>\n",
       "  </thead>\n",
       "  <tbody>\n",
       "    <tr>\n",
       "      <th>0</th>\n",
       "      <td>1</td>\n",
       "      <td>31.0</td>\n",
       "      <td>192.0</td>\n",
       "      <td>161.0</td>\n",
       "    </tr>\n",
       "    <tr>\n",
       "      <th>1</th>\n",
       "      <td>1</td>\n",
       "      <td>32.0</td>\n",
       "      <td>192.0</td>\n",
       "      <td>160.0</td>\n",
       "    </tr>\n",
       "    <tr>\n",
       "      <th>2</th>\n",
       "      <td>1</td>\n",
       "      <td>33.0</td>\n",
       "      <td>192.0</td>\n",
       "      <td>159.0</td>\n",
       "    </tr>\n",
       "    <tr>\n",
       "      <th>3</th>\n",
       "      <td>1</td>\n",
       "      <td>34.0</td>\n",
       "      <td>192.0</td>\n",
       "      <td>158.0</td>\n",
       "    </tr>\n",
       "    <tr>\n",
       "      <th>4</th>\n",
       "      <td>1</td>\n",
       "      <td>35.0</td>\n",
       "      <td>192.0</td>\n",
       "      <td>157.0</td>\n",
       "    </tr>\n",
       "  </tbody>\n",
       "</table>\n",
       "</div>"
      ],
      "text/plain": [
       "   engine_id  cycle  max_cycle    RUL\n",
       "0          1   31.0      192.0  161.0\n",
       "1          1   32.0      192.0  160.0\n",
       "2          1   33.0      192.0  159.0\n",
       "3          1   34.0      192.0  158.0\n",
       "4          1   35.0      192.0  157.0"
      ]
     },
     "execution_count": 9,
     "metadata": {},
     "output_type": "execute_result"
    }
   ],
   "source": [
    "metadata_df.head()"
   ]
  },
  {
   "cell_type": "code",
   "execution_count": 12,
   "id": "cefb6ce5",
   "metadata": {},
   "outputs": [
    {
     "data": {
      "text/html": [
       "<div>\n",
       "<style scoped>\n",
       "    .dataframe tbody tr th:only-of-type {\n",
       "        vertical-align: middle;\n",
       "    }\n",
       "\n",
       "    .dataframe tbody tr th {\n",
       "        vertical-align: top;\n",
       "    }\n",
       "\n",
       "    .dataframe thead th {\n",
       "        text-align: right;\n",
       "    }\n",
       "</style>\n",
       "<table border=\"1\" class=\"dataframe\">\n",
       "  <thead>\n",
       "    <tr style=\"text-align: right;\">\n",
       "      <th></th>\n",
       "      <th>engine_id</th>\n",
       "      <th>cycle</th>\n",
       "      <th>RUL</th>\n",
       "    </tr>\n",
       "  </thead>\n",
       "  <tbody>\n",
       "    <tr>\n",
       "      <th>0</th>\n",
       "      <td>1</td>\n",
       "      <td>31.0</td>\n",
       "      <td>130.0</td>\n",
       "    </tr>\n",
       "    <tr>\n",
       "      <th>1</th>\n",
       "      <td>1</td>\n",
       "      <td>32.0</td>\n",
       "      <td>130.0</td>\n",
       "    </tr>\n",
       "    <tr>\n",
       "      <th>2</th>\n",
       "      <td>1</td>\n",
       "      <td>33.0</td>\n",
       "      <td>130.0</td>\n",
       "    </tr>\n",
       "    <tr>\n",
       "      <th>3</th>\n",
       "      <td>1</td>\n",
       "      <td>34.0</td>\n",
       "      <td>130.0</td>\n",
       "    </tr>\n",
       "    <tr>\n",
       "      <th>4</th>\n",
       "      <td>1</td>\n",
       "      <td>35.0</td>\n",
       "      <td>130.0</td>\n",
       "    </tr>\n",
       "  </tbody>\n",
       "</table>\n",
       "</div>"
      ],
      "text/plain": [
       "   engine_id  cycle    RUL\n",
       "0          1   31.0  130.0\n",
       "1          1   32.0  130.0\n",
       "2          1   33.0  130.0\n",
       "3          1   34.0  130.0\n",
       "4          1   35.0  130.0"
      ]
     },
     "execution_count": 12,
     "metadata": {},
     "output_type": "execute_result"
    }
   ],
   "source": [
    "# Optional: Cap RUL values\n",
    "rul_cap = 130\n",
    "metadata_df['RUL'] = metadata_df['RUL'].clip(upper=rul_cap)\n",
    "\n",
    "# Drop max_cycle column if not needed further\n",
    "metadata_df.drop(columns=['max_cycle'], inplace=True)\n",
    "\n",
    "metadata_df.head()"
   ]
  },
  {
   "cell_type": "code",
   "execution_count": 13,
   "id": "d5eed6d6",
   "metadata": {},
   "outputs": [
    {
     "name": "stdout",
     "output_type": "stream",
     "text": [
      "\n",
      "Engine 1 - Cycles and RULs:\n",
      "   cycle    RUL\n",
      "0   31.0  130.0\n",
      "1   32.0  130.0\n",
      "2   33.0  130.0\n",
      "3   34.0  130.0\n",
      "4   35.0  130.0\n",
      "5   36.0  130.0\n",
      "6   37.0  130.0\n",
      "7   38.0  130.0\n",
      "8   39.0  130.0\n",
      "9   40.0  130.0\n",
      "     cycle  RUL\n",
      "152  183.0  9.0\n",
      "153  184.0  8.0\n",
      "154  185.0  7.0\n",
      "155  186.0  6.0\n",
      "156  187.0  5.0\n",
      "157  188.0  4.0\n",
      "158  189.0  3.0\n",
      "159  190.0  2.0\n",
      "160  191.0  1.0\n",
      "161  192.0  0.0\n",
      "\n",
      "Engine 2 - Cycles and RULs:\n",
      "     cycle    RUL\n",
      "162   31.0  130.0\n",
      "163   32.0  130.0\n",
      "164   33.0  130.0\n",
      "165   34.0  130.0\n",
      "166   35.0  130.0\n",
      "167   36.0  130.0\n",
      "168   37.0  130.0\n",
      "169   38.0  130.0\n",
      "170   39.0  130.0\n",
      "171   40.0  130.0\n",
      "     cycle  RUL\n",
      "409  278.0  9.0\n",
      "410  279.0  8.0\n",
      "411  280.0  7.0\n",
      "412  281.0  6.0\n",
      "413  282.0  5.0\n",
      "414  283.0  4.0\n",
      "415  284.0  3.0\n",
      "416  285.0  2.0\n",
      "417  286.0  1.0\n",
      "418  287.0  0.0\n",
      "\n",
      "Engine 3 - Cycles and RULs:\n",
      "     cycle    RUL\n",
      "419   31.0  130.0\n",
      "420   32.0  130.0\n",
      "421   33.0  130.0\n",
      "422   34.0  130.0\n",
      "423   35.0  130.0\n",
      "424   36.0  130.0\n",
      "425   37.0  130.0\n",
      "426   38.0  130.0\n",
      "427   39.0  130.0\n",
      "428   40.0  130.0\n",
      "     cycle  RUL\n",
      "558  170.0  9.0\n",
      "559  171.0  8.0\n",
      "560  172.0  7.0\n",
      "561  173.0  6.0\n",
      "562  174.0  5.0\n",
      "563  175.0  4.0\n",
      "564  176.0  3.0\n",
      "565  177.0  2.0\n",
      "566  178.0  1.0\n",
      "567  179.0  0.0\n"
     ]
    }
   ],
   "source": [
    "# 4. Validate by inspecting example engine(s)\n",
    "engines_to_check = metadata_df['engine_id'].unique()[:3]  # first 3 engines\n",
    "for engine in engines_to_check:\n",
    "    sample = metadata_df[metadata_df['engine_id'] == engine][['cycle', 'RUL']]\n",
    "    print(f\"\\nEngine {engine} - Cycles and RULs:\")\n",
    "    print(sample.head(10))\n",
    "    print(sample.tail(10))"
   ]
  },
  {
   "cell_type": "code",
   "execution_count": 14,
   "id": "395e6178",
   "metadata": {},
   "outputs": [
    {
     "name": "stdout",
     "output_type": "stream",
     "text": [
      "Saved updated metadata with RUL as 'sequence_metadata_with_RUL.csv'\n"
     ]
    }
   ],
   "source": [
    "# 5. Save updated metadata with RUL target\n",
    "metadata_df.to_csv('sequence_metadata_with_RUL.csv', index=False)\n",
    "print(\"Saved updated metadata with RUL as 'sequence_metadata_with_RUL.csv'\")"
   ]
  },
  {
   "cell_type": "markdown",
   "id": "7fde4975",
   "metadata": {},
   "source": [
    "**Process Steps:**  \n",
    "- Loaded rolling window feature sequences from 'rolling_windows_feature.npy'.  \n",
    "- Loaded sequence metadata from 'sequence_metadata.csv' including engine and cycle identifiers.  \n",
    "- Computed Remaining Useful Life (RUL) for each sequence as the difference between \n",
    "  maximum cycle for the engine and the current cycle.  \n",
    "- Applied RUL capping at 130 to stabilize regression targets.  \n",
    "- Saved updated metadata including RUL targets for downstream model training.\n",
    "\n",
    "**Outputs:**  \n",
    "- Rolling window sequences (NumPy array) ready for modeling.  \n",
    "- Updated sequence metadata with assigned RUL targets.  \n",
    "\n",
    "**Next Steps:**  \n",
    "- Use these datasets for training and evaluating LSTM/GRU predictive models for RUL.  \n",
    "\n",
    "---"
   ]
  }
 ],
 "metadata": {
  "kernelspec": {
   "display_name": "Python 3",
   "language": "python",
   "name": "python3"
  },
  "language_info": {
   "codemirror_mode": {
    "name": "ipython",
    "version": 3
   },
   "file_extension": ".py",
   "mimetype": "text/x-python",
   "name": "python",
   "nbconvert_exporter": "python",
   "pygments_lexer": "ipython3",
   "version": "3.11.9"
  }
 },
 "nbformat": 4,
 "nbformat_minor": 5
}
