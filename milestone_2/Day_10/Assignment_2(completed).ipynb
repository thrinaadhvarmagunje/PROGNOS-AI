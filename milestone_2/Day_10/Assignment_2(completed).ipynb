{
  "cells": [
    {
      "cell_type": "markdown",
      "id": "d3580c30",
      "metadata": {
        "id": "d3580c30"
      },
      "source": [
        "### Assignment-2\n",
        "\n",
        "**Objective:**\n",
        "\n",
        "Build and experiment with advanced LSTM model variant for RUL prediction."
      ]
    },
    {
      "cell_type": "markdown",
      "id": "345d7f43",
      "metadata": {
        "id": "345d7f43"
      },
      "source": [
        "1. Imports necessary libraries"
      ]
    },
    {
      "cell_type": "code",
      "execution_count": 17,
      "id": "311be2ff",
      "metadata": {
        "vscode": {
          "languageId": "plaintext"
        },
        "id": "311be2ff"
      },
      "outputs": [],
      "source": [
        "from tensorflow.keras.models import Sequential\n",
        "from tensorflow.keras.layers import LSTM, Dense\n",
        "from tensorflow.keras.layers import Bidirectional, Dropout, Input, Layer\n",
        "from tensorflow.keras.optimizers import Adam, RMSprop\n",
        "from tensorflow.keras import regularizers\n",
        "from tensorflow.keras.callbacks import EarlyStopping, ReduceLROnPlateau, ModelCheckpoint\n",
        "import tensorflow as tf\n",
        "import pandas as pd\n",
        "import numpy as np\n",
        "from sklearn.model_selection import train_test_split\n",
        "import matplotlib.pyplot as plt\n",
        "import seaborn as sns"
      ]
    },
    {
      "cell_type": "code",
      "source": [
        "from google.colab import drive\n",
        "drive.mount('/content/drive')\n"
      ],
      "metadata": {
        "colab": {
          "base_uri": "https://localhost:8080/"
        },
        "id": "o7wMmi6JTvFa",
        "outputId": "a23a5c79-ef47-4d64-f9a6-fdef6c2e0f28"
      },
      "id": "o7wMmi6JTvFa",
      "execution_count": 6,
      "outputs": [
        {
          "output_type": "stream",
          "name": "stdout",
          "text": [
            "Drive already mounted at /content/drive; to attempt to forcibly remount, call drive.mount(\"/content/drive\", force_remount=True).\n"
          ]
        }
      ]
    },
    {
      "cell_type": "markdown",
      "id": "0b9b38a1",
      "metadata": {
        "id": "0b9b38a1"
      },
      "source": [
        "2. Data Loading"
      ]
    },
    {
      "cell_type": "code",
      "execution_count": 7,
      "id": "89a6881c",
      "metadata": {
        "vscode": {
          "languageId": "plaintext"
        },
        "id": "89a6881c",
        "colab": {
          "base_uri": "https://localhost:8080/"
        },
        "outputId": "bce34d54-30a5-4c26-d375-db14eb4bb328"
      },
      "outputs": [
        {
          "output_type": "stream",
          "name": "stdout",
          "text": [
            "X shape: (17631, 30, 66)\n",
            "y shape: (17631,)\n"
          ]
        }
      ],
      "source": [
        "# Load rolling window sequences (shape: [num_samples, window_size, num_features])\n",
        "X = np.load(\"/content/drive/MyDrive/rolling_window_sequences.npy\")      # Feature array\n",
        "# Load metadata that contains engine_id, cycle, RUL, etc.\n",
        "metadata = pd.read_csv(\"/content/drive/MyDrive/sequence_metadata_with_RUL.csv\")\n",
        "y = metadata[\"RUL\"].values                     # Target RUL array\n",
        "\n",
        "# Print shapes to verify\n",
        "print(\"X shape:\", X.shape)\n",
        "print(\"y shape:\", y.shape)"
      ]
    },
    {
      "cell_type": "markdown",
      "id": "00bb36b4",
      "metadata": {
        "id": "00bb36b4"
      },
      "source": [
        "3. Train/Validation Split"
      ]
    },
    {
      "cell_type": "code",
      "execution_count": 8,
      "id": "2e56f950",
      "metadata": {
        "vscode": {
          "languageId": "plaintext"
        },
        "id": "2e56f950",
        "colab": {
          "base_uri": "https://localhost:8080/"
        },
        "outputId": "42cb6d74-51c4-4c45-eaf5-7a1b2e39c4c3"
      },
      "outputs": [
        {
          "output_type": "stream",
          "name": "stdout",
          "text": [
            "Train shape: (14104, 30, 66) (14104,)\n",
            "Val shape: (3527, 30, 66) (3527,)\n",
            "Example X_train[0] batch shape: (30, 66)\n",
            "First 5 RUL targets: [ 74.  41.  43.  33. 101.]\n"
          ]
        }
      ],
      "source": [
        "X_train, X_val, y_train, y_val = train_test_split(\n",
        "    X, y, test_size=0.2, random_state=42\n",
        ")\n",
        "print(\"Train shape:\", X_train.shape, y_train.shape)\n",
        "print(\"Val shape:\", X_val.shape, y_val.shape)\n",
        "\n",
        "# Inspect sample batches\n",
        "print(\"Example X_train[0] batch shape:\", X_train[0].shape)\n",
        "print(\"First 5 RUL targets:\", y_train[:5])"
      ]
    },
    {
      "cell_type": "markdown",
      "id": "7757cd5d",
      "metadata": {
        "id": "7757cd5d"
      },
      "source": [
        "4. Define Model Architectures"
      ]
    },
    {
      "cell_type": "code",
      "execution_count": 13,
      "id": "eaa7f307",
      "metadata": {
        "vscode": {
          "languageId": "plaintext"
        },
        "id": "eaa7f307"
      },
      "outputs": [],
      "source": [
        "model = Sequential([\n",
        "    LSTM(64, activation='tanh', input_shape=(X.shape[1], X.shape[2]), return_sequences=False),\n",
        "    Dense(1)\n",
        "])\n"
      ]
    },
    {
      "cell_type": "markdown",
      "id": "73c917b2",
      "metadata": {
        "id": "73c917b2"
      },
      "source": [
        "5. Instantiate and compile models"
      ]
    },
    {
      "cell_type": "code",
      "execution_count": 14,
      "id": "e20b4de4",
      "metadata": {
        "vscode": {
          "languageId": "plaintext"
        },
        "id": "e20b4de4",
        "colab": {
          "base_uri": "https://localhost:8080/",
          "height": 197
        },
        "outputId": "c61bbf0e-1514-4df5-e26d-0ac7da666f48"
      },
      "outputs": [
        {
          "output_type": "display_data",
          "data": {
            "text/plain": [
              "\u001b[1mModel: \"sequential_3\"\u001b[0m\n"
            ],
            "text/html": [
              "<pre style=\"white-space:pre;overflow-x:auto;line-height:normal;font-family:Menlo,'DejaVu Sans Mono',consolas,'Courier New',monospace\"><span style=\"font-weight: bold\">Model: \"sequential_3\"</span>\n",
              "</pre>\n"
            ]
          },
          "metadata": {}
        },
        {
          "output_type": "display_data",
          "data": {
            "text/plain": [
              "┏━━━━━━━━━━━━━━━━━━━━━━━━━━━━━━━━━┳━━━━━━━━━━━━━━━━━━━━━━━━┳━━━━━━━━━━━━━━━┓\n",
              "┃\u001b[1m \u001b[0m\u001b[1mLayer (type)                   \u001b[0m\u001b[1m \u001b[0m┃\u001b[1m \u001b[0m\u001b[1mOutput Shape          \u001b[0m\u001b[1m \u001b[0m┃\u001b[1m \u001b[0m\u001b[1m      Param #\u001b[0m\u001b[1m \u001b[0m┃\n",
              "┡━━━━━━━━━━━━━━━━━━━━━━━━━━━━━━━━━╇━━━━━━━━━━━━━━━━━━━━━━━━╇━━━━━━━━━━━━━━━┩\n",
              "│ lstm_3 (\u001b[38;5;33mLSTM\u001b[0m)                   │ (\u001b[38;5;45mNone\u001b[0m, \u001b[38;5;34m64\u001b[0m)             │        \u001b[38;5;34m33,536\u001b[0m │\n",
              "├─────────────────────────────────┼────────────────────────┼───────────────┤\n",
              "│ dense_3 (\u001b[38;5;33mDense\u001b[0m)                 │ (\u001b[38;5;45mNone\u001b[0m, \u001b[38;5;34m1\u001b[0m)              │            \u001b[38;5;34m65\u001b[0m │\n",
              "└─────────────────────────────────┴────────────────────────┴───────────────┘\n"
            ],
            "text/html": [
              "<pre style=\"white-space:pre;overflow-x:auto;line-height:normal;font-family:Menlo,'DejaVu Sans Mono',consolas,'Courier New',monospace\">┏━━━━━━━━━━━━━━━━━━━━━━━━━━━━━━━━━┳━━━━━━━━━━━━━━━━━━━━━━━━┳━━━━━━━━━━━━━━━┓\n",
              "┃<span style=\"font-weight: bold\"> Layer (type)                    </span>┃<span style=\"font-weight: bold\"> Output Shape           </span>┃<span style=\"font-weight: bold\">       Param # </span>┃\n",
              "┡━━━━━━━━━━━━━━━━━━━━━━━━━━━━━━━━━╇━━━━━━━━━━━━━━━━━━━━━━━━╇━━━━━━━━━━━━━━━┩\n",
              "│ lstm_3 (<span style=\"color: #0087ff; text-decoration-color: #0087ff\">LSTM</span>)                   │ (<span style=\"color: #00d7ff; text-decoration-color: #00d7ff\">None</span>, <span style=\"color: #00af00; text-decoration-color: #00af00\">64</span>)             │        <span style=\"color: #00af00; text-decoration-color: #00af00\">33,536</span> │\n",
              "├─────────────────────────────────┼────────────────────────┼───────────────┤\n",
              "│ dense_3 (<span style=\"color: #0087ff; text-decoration-color: #0087ff\">Dense</span>)                 │ (<span style=\"color: #00d7ff; text-decoration-color: #00d7ff\">None</span>, <span style=\"color: #00af00; text-decoration-color: #00af00\">1</span>)              │            <span style=\"color: #00af00; text-decoration-color: #00af00\">65</span> │\n",
              "└─────────────────────────────────┴────────────────────────┴───────────────┘\n",
              "</pre>\n"
            ]
          },
          "metadata": {}
        },
        {
          "output_type": "display_data",
          "data": {
            "text/plain": [
              "\u001b[1m Total params: \u001b[0m\u001b[38;5;34m33,601\u001b[0m (131.25 KB)\n"
            ],
            "text/html": [
              "<pre style=\"white-space:pre;overflow-x:auto;line-height:normal;font-family:Menlo,'DejaVu Sans Mono',consolas,'Courier New',monospace\"><span style=\"font-weight: bold\"> Total params: </span><span style=\"color: #00af00; text-decoration-color: #00af00\">33,601</span> (131.25 KB)\n",
              "</pre>\n"
            ]
          },
          "metadata": {}
        },
        {
          "output_type": "display_data",
          "data": {
            "text/plain": [
              "\u001b[1m Trainable params: \u001b[0m\u001b[38;5;34m33,601\u001b[0m (131.25 KB)\n"
            ],
            "text/html": [
              "<pre style=\"white-space:pre;overflow-x:auto;line-height:normal;font-family:Menlo,'DejaVu Sans Mono',consolas,'Courier New',monospace\"><span style=\"font-weight: bold\"> Trainable params: </span><span style=\"color: #00af00; text-decoration-color: #00af00\">33,601</span> (131.25 KB)\n",
              "</pre>\n"
            ]
          },
          "metadata": {}
        },
        {
          "output_type": "display_data",
          "data": {
            "text/plain": [
              "\u001b[1m Non-trainable params: \u001b[0m\u001b[38;5;34m0\u001b[0m (0.00 B)\n"
            ],
            "text/html": [
              "<pre style=\"white-space:pre;overflow-x:auto;line-height:normal;font-family:Menlo,'DejaVu Sans Mono',consolas,'Courier New',monospace\"><span style=\"font-weight: bold\"> Non-trainable params: </span><span style=\"color: #00af00; text-decoration-color: #00af00\">0</span> (0.00 B)\n",
              "</pre>\n"
            ]
          },
          "metadata": {}
        }
      ],
      "source": [
        "model.compile(optimizer=tf.keras.optimizers.Adam(0.001), loss='mse')\n",
        "model.summary()"
      ]
    },
    {
      "cell_type": "markdown",
      "id": "5c0cb8a9",
      "metadata": {
        "id": "5c0cb8a9"
      },
      "source": [
        "6. Prepare datasets for training"
      ]
    },
    {
      "cell_type": "code",
      "execution_count": 15,
      "id": "395158f0",
      "metadata": {
        "vscode": {
          "languageId": "plaintext"
        },
        "id": "395158f0"
      },
      "outputs": [],
      "source": [
        "train_dataset = tf.data.Dataset.from_tensor_slices((X_train, y_train)).batch(64).prefetch(1)\n",
        "val_dataset   = tf.data.Dataset.from_tensor_slices((X_val, y_val)).batch(64).prefetch(1)"
      ]
    },
    {
      "cell_type": "markdown",
      "id": "fbda819c",
      "metadata": {
        "id": "fbda819c"
      },
      "source": [
        "7. Setup callbacks"
      ]
    },
    {
      "cell_type": "code",
      "execution_count": 18,
      "id": "ae54969a",
      "metadata": {
        "vscode": {
          "languageId": "plaintext"
        },
        "id": "ae54969a"
      },
      "outputs": [],
      "source": [
        "early_stop = EarlyStopping(\n",
        "    monitor='val_loss', patience=8, restore_best_weights=True, verbose=1\n",
        ")\n",
        "reduce_lr = ReduceLROnPlateau(\n",
        "    monitor=\"val_loss\", factor=0.5, patience=4, min_lr=1e-5, verbose=1\n",
        ")\n",
        "model_ckpt = ModelCheckpoint(\n",
        "    \"best_lstm_model.keras\", save_best_only=True, monitor=\"val_loss\", verbose=1\n",
        ")"
      ]
    },
    {
      "cell_type": "markdown",
      "id": "91634b51",
      "metadata": {
        "id": "91634b51"
      },
      "source": [
        "8. Train and compare models"
      ]
    },
    {
      "cell_type": "code",
      "execution_count": 19,
      "id": "4125ac63",
      "metadata": {
        "vscode": {
          "languageId": "plaintext"
        },
        "id": "4125ac63",
        "colab": {
          "base_uri": "https://localhost:8080/"
        },
        "outputId": "b8d7781e-4a8a-44fb-def7-567424a8f2df"
      },
      "outputs": [
        {
          "output_type": "stream",
          "name": "stdout",
          "text": [
            "Epoch 1/50\n",
            "\u001b[1m219/221\u001b[0m \u001b[32m━━━━━━━━━━━━━━━━━━━\u001b[0m\u001b[37m━\u001b[0m \u001b[1m0s\u001b[0m 26ms/step - loss: 7557.8418\n",
            "Epoch 1: val_loss improved from inf to 5601.37842, saving model to best_lstm_model.keras\n",
            "\u001b[1m221/221\u001b[0m \u001b[32m━━━━━━━━━━━━━━━━━━━━\u001b[0m\u001b[37m\u001b[0m \u001b[1m9s\u001b[0m 30ms/step - loss: 7548.0327 - val_loss: 5601.3784 - learning_rate: 0.0010\n",
            "Epoch 2/50\n",
            "\u001b[1m220/221\u001b[0m \u001b[32m━━━━━━━━━━━━━━━━━━━\u001b[0m\u001b[37m━\u001b[0m \u001b[1m0s\u001b[0m 19ms/step - loss: 5186.0010\n",
            "Epoch 2: val_loss improved from 5601.37842 to 4273.97168, saving model to best_lstm_model.keras\n",
            "\u001b[1m221/221\u001b[0m \u001b[32m━━━━━━━━━━━━━━━━━━━━\u001b[0m\u001b[37m\u001b[0m \u001b[1m5s\u001b[0m 21ms/step - loss: 5183.2275 - val_loss: 4273.9717 - learning_rate: 0.0010\n",
            "Epoch 3/50\n",
            "\u001b[1m221/221\u001b[0m \u001b[32m━━━━━━━━━━━━━━━━━━━━\u001b[0m\u001b[37m\u001b[0m \u001b[1m0s\u001b[0m 20ms/step - loss: 3969.4163\n",
            "Epoch 3: val_loss improved from 4273.97168 to 3298.32202, saving model to best_lstm_model.keras\n",
            "\u001b[1m221/221\u001b[0m \u001b[32m━━━━━━━━━━━━━━━━━━━━\u001b[0m\u001b[37m\u001b[0m \u001b[1m6s\u001b[0m 26ms/step - loss: 3968.4148 - val_loss: 3298.3220 - learning_rate: 0.0010\n",
            "Epoch 4/50\n",
            "\u001b[1m220/221\u001b[0m \u001b[32m━━━━━━━━━━━━━━━━━━━\u001b[0m\u001b[37m━\u001b[0m \u001b[1m0s\u001b[0m 19ms/step - loss: 3063.8774\n",
            "Epoch 4: val_loss improved from 3298.32202 to 2550.79541, saving model to best_lstm_model.keras\n",
            "\u001b[1m221/221\u001b[0m \u001b[32m━━━━━━━━━━━━━━━━━━━━\u001b[0m\u001b[37m\u001b[0m \u001b[1m9s\u001b[0m 21ms/step - loss: 3062.3530 - val_loss: 2550.7954 - learning_rate: 0.0010\n",
            "Epoch 5/50\n",
            "\u001b[1m219/221\u001b[0m \u001b[32m━━━━━━━━━━━━━━━━━━━\u001b[0m\u001b[37m━\u001b[0m \u001b[1m0s\u001b[0m 26ms/step - loss: 2370.0911\n",
            "Epoch 5: val_loss improved from 2550.79541 to 1974.61047, saving model to best_lstm_model.keras\n",
            "\u001b[1m221/221\u001b[0m \u001b[32m━━━━━━━━━━━━━━━━━━━━\u001b[0m\u001b[37m\u001b[0m \u001b[1m6s\u001b[0m 28ms/step - loss: 2368.3367 - val_loss: 1974.6105 - learning_rate: 0.0010\n",
            "Epoch 6/50\n",
            "\u001b[1m218/221\u001b[0m \u001b[32m━━━━━━━━━━━━━━━━━━━\u001b[0m\u001b[37m━\u001b[0m \u001b[1m0s\u001b[0m 18ms/step - loss: 1836.4670\n",
            "Epoch 6: val_loss improved from 1974.61047 to 1514.08801, saving model to best_lstm_model.keras\n",
            "\u001b[1m221/221\u001b[0m \u001b[32m━━━━━━━━━━━━━━━━━━━━\u001b[0m\u001b[37m\u001b[0m \u001b[1m9s\u001b[0m 21ms/step - loss: 1834.6460 - val_loss: 1514.0880 - learning_rate: 0.0010\n",
            "Epoch 7/50\n",
            "\u001b[1m220/221\u001b[0m \u001b[32m━━━━━━━━━━━━━━━━━━━\u001b[0m\u001b[37m━\u001b[0m \u001b[1m0s\u001b[0m 26ms/step - loss: 1400.7594\n",
            "Epoch 7: val_loss improved from 1514.08801 to 1160.55127, saving model to best_lstm_model.keras\n",
            "\u001b[1m221/221\u001b[0m \u001b[32m━━━━━━━━━━━━━━━━━━━━\u001b[0m\u001b[37m\u001b[0m \u001b[1m6s\u001b[0m 29ms/step - loss: 1400.0153 - val_loss: 1160.5513 - learning_rate: 0.0010\n",
            "Epoch 8/50\n",
            "\u001b[1m219/221\u001b[0m \u001b[32m━━━━━━━━━━━━━━━━━━━\u001b[0m\u001b[37m━\u001b[0m \u001b[1m0s\u001b[0m 18ms/step - loss: 1077.6870\n",
            "Epoch 8: val_loss improved from 1160.55127 to 894.91748, saving model to best_lstm_model.keras\n",
            "\u001b[1m221/221\u001b[0m \u001b[32m━━━━━━━━━━━━━━━━━━━━\u001b[0m\u001b[37m\u001b[0m \u001b[1m5s\u001b[0m 21ms/step - loss: 1076.8506 - val_loss: 894.9175 - learning_rate: 0.0010\n",
            "Epoch 9/50\n",
            "\u001b[1m218/221\u001b[0m \u001b[32m━━━━━━━━━━━━━━━━━━━\u001b[0m\u001b[37m━\u001b[0m \u001b[1m0s\u001b[0m 19ms/step - loss: 843.5487\n",
            "Epoch 9: val_loss improved from 894.91748 to 713.11420, saving model to best_lstm_model.keras\n",
            "\u001b[1m221/221\u001b[0m \u001b[32m━━━━━━━━━━━━━━━━━━━━\u001b[0m\u001b[37m\u001b[0m \u001b[1m5s\u001b[0m 22ms/step - loss: 842.7126 - val_loss: 713.1142 - learning_rate: 0.0010\n",
            "Epoch 10/50\n",
            "\u001b[1m221/221\u001b[0m \u001b[32m━━━━━━━━━━━━━━━━━━━━\u001b[0m\u001b[37m\u001b[0m \u001b[1m0s\u001b[0m 32ms/step - loss: 673.8703\n",
            "Epoch 10: val_loss improved from 713.11420 to 568.17242, saving model to best_lstm_model.keras\n",
            "\u001b[1m221/221\u001b[0m \u001b[32m━━━━━━━━━━━━━━━━━━━━\u001b[0m\u001b[37m\u001b[0m \u001b[1m8s\u001b[0m 34ms/step - loss: 673.6973 - val_loss: 568.1724 - learning_rate: 0.0010\n",
            "Epoch 11/50\n",
            "\u001b[1m220/221\u001b[0m \u001b[32m━━━━━━━━━━━━━━━━━━━\u001b[0m\u001b[37m━\u001b[0m \u001b[1m0s\u001b[0m 19ms/step - loss: 544.9956\n",
            "Epoch 11: val_loss improved from 568.17242 to 470.01508, saving model to best_lstm_model.keras\n",
            "\u001b[1m221/221\u001b[0m \u001b[32m━━━━━━━━━━━━━━━━━━━━\u001b[0m\u001b[37m\u001b[0m \u001b[1m5s\u001b[0m 21ms/step - loss: 544.6919 - val_loss: 470.0151 - learning_rate: 0.0010\n",
            "Epoch 12/50\n",
            "\u001b[1m220/221\u001b[0m \u001b[32m━━━━━━━━━━━━━━━━━━━\u001b[0m\u001b[37m━\u001b[0m \u001b[1m0s\u001b[0m 26ms/step - loss: 443.0207\n",
            "Epoch 12: val_loss improved from 470.01508 to 413.50699, saving model to best_lstm_model.keras\n",
            "\u001b[1m221/221\u001b[0m \u001b[32m━━━━━━━━━━━━━━━━━━━━\u001b[0m\u001b[37m\u001b[0m \u001b[1m6s\u001b[0m 28ms/step - loss: 442.8480 - val_loss: 413.5070 - learning_rate: 0.0010\n",
            "Epoch 13/50\n",
            "\u001b[1m219/221\u001b[0m \u001b[32m━━━━━━━━━━━━━━━━━━━\u001b[0m\u001b[37m━\u001b[0m \u001b[1m0s\u001b[0m 19ms/step - loss: 380.5721\n",
            "Epoch 13: val_loss improved from 413.50699 to 344.37881, saving model to best_lstm_model.keras\n",
            "\u001b[1m221/221\u001b[0m \u001b[32m━━━━━━━━━━━━━━━━━━━━\u001b[0m\u001b[37m\u001b[0m \u001b[1m9s\u001b[0m 21ms/step - loss: 380.3169 - val_loss: 344.3788 - learning_rate: 0.0010\n",
            "Epoch 14/50\n",
            "\u001b[1m219/221\u001b[0m \u001b[32m━━━━━━━━━━━━━━━━━━━\u001b[0m\u001b[37m━\u001b[0m \u001b[1m0s\u001b[0m 26ms/step - loss: 323.8695\n",
            "Epoch 14: val_loss improved from 344.37881 to 315.21796, saving model to best_lstm_model.keras\n",
            "\u001b[1m221/221\u001b[0m \u001b[32m━━━━━━━━━━━━━━━━━━━━\u001b[0m\u001b[37m\u001b[0m \u001b[1m6s\u001b[0m 28ms/step - loss: 323.7276 - val_loss: 315.2180 - learning_rate: 0.0010\n",
            "Epoch 15/50\n",
            "\u001b[1m220/221\u001b[0m \u001b[32m━━━━━━━━━━━━━━━━━━━\u001b[0m\u001b[37m━\u001b[0m \u001b[1m0s\u001b[0m 19ms/step - loss: 279.9449\n",
            "Epoch 15: val_loss improved from 315.21796 to 271.33893, saving model to best_lstm_model.keras\n",
            "\u001b[1m221/221\u001b[0m \u001b[32m━━━━━━━━━━━━━━━━━━━━\u001b[0m\u001b[37m\u001b[0m \u001b[1m9s\u001b[0m 21ms/step - loss: 279.8323 - val_loss: 271.3389 - learning_rate: 0.0010\n",
            "Epoch 16/50\n",
            "\u001b[1m218/221\u001b[0m \u001b[32m━━━━━━━━━━━━━━━━━━━\u001b[0m\u001b[37m━\u001b[0m \u001b[1m0s\u001b[0m 26ms/step - loss: 243.6503\n",
            "Epoch 16: val_loss improved from 271.33893 to 236.15283, saving model to best_lstm_model.keras\n",
            "\u001b[1m221/221\u001b[0m \u001b[32m━━━━━━━━━━━━━━━━━━━━\u001b[0m\u001b[37m\u001b[0m \u001b[1m6s\u001b[0m 28ms/step - loss: 243.4777 - val_loss: 236.1528 - learning_rate: 0.0010\n",
            "Epoch 17/50\n",
            "\u001b[1m221/221\u001b[0m \u001b[32m━━━━━━━━━━━━━━━━━━━━\u001b[0m\u001b[37m\u001b[0m \u001b[1m0s\u001b[0m 19ms/step - loss: 215.0039\n",
            "Epoch 17: val_loss improved from 236.15283 to 226.86201, saving model to best_lstm_model.keras\n",
            "\u001b[1m221/221\u001b[0m \u001b[32m━━━━━━━━━━━━━━━━━━━━\u001b[0m\u001b[37m\u001b[0m \u001b[1m9s\u001b[0m 25ms/step - loss: 214.9677 - val_loss: 226.8620 - learning_rate: 0.0010\n",
            "Epoch 18/50\n",
            "\u001b[1m219/221\u001b[0m \u001b[32m━━━━━━━━━━━━━━━━━━━\u001b[0m\u001b[37m━\u001b[0m \u001b[1m0s\u001b[0m 19ms/step - loss: 193.0636\n",
            "Epoch 18: val_loss improved from 226.86201 to 214.85881, saving model to best_lstm_model.keras\n",
            "\u001b[1m221/221\u001b[0m \u001b[32m━━━━━━━━━━━━━━━━━━━━\u001b[0m\u001b[37m\u001b[0m \u001b[1m9s\u001b[0m 21ms/step - loss: 192.9444 - val_loss: 214.8588 - learning_rate: 0.0010\n",
            "Epoch 19/50\n",
            "\u001b[1m218/221\u001b[0m \u001b[32m━━━━━━━━━━━━━━━━━━━\u001b[0m\u001b[37m━\u001b[0m \u001b[1m0s\u001b[0m 26ms/step - loss: 177.8469\n",
            "Epoch 19: val_loss improved from 214.85881 to 200.32703, saving model to best_lstm_model.keras\n",
            "\u001b[1m221/221\u001b[0m \u001b[32m━━━━━━━━━━━━━━━━━━━━\u001b[0m\u001b[37m\u001b[0m \u001b[1m7s\u001b[0m 28ms/step - loss: 177.6521 - val_loss: 200.3270 - learning_rate: 0.0010\n",
            "Epoch 20/50\n",
            "\u001b[1m219/221\u001b[0m \u001b[32m━━━━━━━━━━━━━━━━━━━\u001b[0m\u001b[37m━\u001b[0m \u001b[1m0s\u001b[0m 19ms/step - loss: 161.2388\n",
            "Epoch 20: val_loss improved from 200.32703 to 171.98497, saving model to best_lstm_model.keras\n",
            "\u001b[1m221/221\u001b[0m \u001b[32m━━━━━━━━━━━━━━━━━━━━\u001b[0m\u001b[37m\u001b[0m \u001b[1m5s\u001b[0m 21ms/step - loss: 161.1379 - val_loss: 171.9850 - learning_rate: 0.0010\n",
            "Epoch 21/50\n",
            "\u001b[1m220/221\u001b[0m \u001b[32m━━━━━━━━━━━━━━━━━━━\u001b[0m\u001b[37m━\u001b[0m \u001b[1m0s\u001b[0m 19ms/step - loss: 145.0207\n",
            "Epoch 21: val_loss improved from 171.98497 to 168.75908, saving model to best_lstm_model.keras\n",
            "\u001b[1m221/221\u001b[0m \u001b[32m━━━━━━━━━━━━━━━━━━━━\u001b[0m\u001b[37m\u001b[0m \u001b[1m5s\u001b[0m 21ms/step - loss: 145.0410 - val_loss: 168.7591 - learning_rate: 0.0010\n",
            "Epoch 22/50\n",
            "\u001b[1m220/221\u001b[0m \u001b[32m━━━━━━━━━━━━━━━━━━━\u001b[0m\u001b[37m━\u001b[0m \u001b[1m0s\u001b[0m 25ms/step - loss: 138.7275\n",
            "Epoch 22: val_loss improved from 168.75908 to 151.41475, saving model to best_lstm_model.keras\n",
            "\u001b[1m221/221\u001b[0m \u001b[32m━━━━━━━━━━━━━━━━━━━━\u001b[0m\u001b[37m\u001b[0m \u001b[1m6s\u001b[0m 27ms/step - loss: 138.6822 - val_loss: 151.4147 - learning_rate: 0.0010\n",
            "Epoch 23/50\n",
            "\u001b[1m220/221\u001b[0m \u001b[32m━━━━━━━━━━━━━━━━━━━\u001b[0m\u001b[37m━\u001b[0m \u001b[1m0s\u001b[0m 19ms/step - loss: 137.5081\n",
            "Epoch 23: val_loss improved from 151.41475 to 147.15794, saving model to best_lstm_model.keras\n",
            "\u001b[1m221/221\u001b[0m \u001b[32m━━━━━━━━━━━━━━━━━━━━\u001b[0m\u001b[37m\u001b[0m \u001b[1m5s\u001b[0m 21ms/step - loss: 137.4530 - val_loss: 147.1579 - learning_rate: 0.0010\n",
            "Epoch 24/50\n",
            "\u001b[1m220/221\u001b[0m \u001b[32m━━━━━━━━━━━━━━━━━━━\u001b[0m\u001b[37m━\u001b[0m \u001b[1m0s\u001b[0m 22ms/step - loss: 135.7710\n",
            "Epoch 24: val_loss did not improve from 147.15794\n",
            "\u001b[1m221/221\u001b[0m \u001b[32m━━━━━━━━━━━━━━━━━━━━\u001b[0m\u001b[37m\u001b[0m \u001b[1m6s\u001b[0m 28ms/step - loss: 135.7477 - val_loss: 149.0347 - learning_rate: 0.0010\n",
            "Epoch 25/50\n",
            "\u001b[1m218/221\u001b[0m \u001b[32m━━━━━━━━━━━━━━━━━━━\u001b[0m\u001b[37m━\u001b[0m \u001b[1m0s\u001b[0m 19ms/step - loss: 120.2477\n",
            "Epoch 25: val_loss improved from 147.15794 to 119.16736, saving model to best_lstm_model.keras\n",
            "\u001b[1m221/221\u001b[0m \u001b[32m━━━━━━━━━━━━━━━━━━━━\u001b[0m\u001b[37m\u001b[0m \u001b[1m9s\u001b[0m 22ms/step - loss: 120.1566 - val_loss: 119.1674 - learning_rate: 0.0010\n",
            "Epoch 26/50\n",
            "\u001b[1m218/221\u001b[0m \u001b[32m━━━━━━━━━━━━━━━━━━━\u001b[0m\u001b[37m━\u001b[0m \u001b[1m0s\u001b[0m 27ms/step - loss: 111.6756\n",
            "Epoch 26: val_loss did not improve from 119.16736\n",
            "\u001b[1m221/221\u001b[0m \u001b[32m━━━━━━━━━━━━━━━━━━━━\u001b[0m\u001b[37m\u001b[0m \u001b[1m6s\u001b[0m 29ms/step - loss: 111.6697 - val_loss: 126.7868 - learning_rate: 0.0010\n",
            "Epoch 27/50\n",
            "\u001b[1m218/221\u001b[0m \u001b[32m━━━━━━━━━━━━━━━━━━━\u001b[0m\u001b[37m━\u001b[0m \u001b[1m0s\u001b[0m 19ms/step - loss: 106.6911\n",
            "Epoch 27: val_loss did not improve from 119.16736\n",
            "\u001b[1m221/221\u001b[0m \u001b[32m━━━━━━━━━━━━━━━━━━━━\u001b[0m\u001b[37m\u001b[0m \u001b[1m5s\u001b[0m 21ms/step - loss: 106.6273 - val_loss: 119.7065 - learning_rate: 0.0010\n",
            "Epoch 28/50\n",
            "\u001b[1m220/221\u001b[0m \u001b[32m━━━━━━━━━━━━━━━━━━━\u001b[0m\u001b[37m━\u001b[0m \u001b[1m0s\u001b[0m 19ms/step - loss: 99.0424\n",
            "Epoch 28: val_loss did not improve from 119.16736\n",
            "\u001b[1m221/221\u001b[0m \u001b[32m━━━━━━━━━━━━━━━━━━━━\u001b[0m\u001b[37m\u001b[0m \u001b[1m5s\u001b[0m 21ms/step - loss: 99.0396 - val_loss: 120.8513 - learning_rate: 0.0010\n",
            "Epoch 29/50\n",
            "\u001b[1m220/221\u001b[0m \u001b[32m━━━━━━━━━━━━━━━━━━━\u001b[0m\u001b[37m━\u001b[0m \u001b[1m0s\u001b[0m 25ms/step - loss: 101.6891\n",
            "Epoch 29: val_loss improved from 119.16736 to 114.50027, saving model to best_lstm_model.keras\n",
            "\u001b[1m221/221\u001b[0m \u001b[32m━━━━━━━━━━━━━━━━━━━━\u001b[0m\u001b[37m\u001b[0m \u001b[1m7s\u001b[0m 28ms/step - loss: 101.7244 - val_loss: 114.5003 - learning_rate: 0.0010\n",
            "Epoch 30/50\n",
            "\u001b[1m219/221\u001b[0m \u001b[32m━━━━━━━━━━━━━━━━━━━\u001b[0m\u001b[37m━\u001b[0m \u001b[1m0s\u001b[0m 19ms/step - loss: 97.2420\n",
            "Epoch 30: val_loss improved from 114.50027 to 106.23920, saving model to best_lstm_model.keras\n",
            "\u001b[1m221/221\u001b[0m \u001b[32m━━━━━━━━━━━━━━━━━━━━\u001b[0m\u001b[37m\u001b[0m \u001b[1m5s\u001b[0m 21ms/step - loss: 97.2068 - val_loss: 106.2392 - learning_rate: 0.0010\n",
            "Epoch 31/50\n",
            "\u001b[1m221/221\u001b[0m \u001b[32m━━━━━━━━━━━━━━━━━━━━\u001b[0m\u001b[37m\u001b[0m \u001b[1m0s\u001b[0m 23ms/step - loss: 88.2553\n",
            "Epoch 31: val_loss did not improve from 106.23920\n",
            "\u001b[1m221/221\u001b[0m \u001b[32m━━━━━━━━━━━━━━━━━━━━\u001b[0m\u001b[37m\u001b[0m \u001b[1m6s\u001b[0m 29ms/step - loss: 88.2686 - val_loss: 106.3263 - learning_rate: 0.0010\n",
            "Epoch 32/50\n",
            "\u001b[1m220/221\u001b[0m \u001b[32m━━━━━━━━━━━━━━━━━━━\u001b[0m\u001b[37m━\u001b[0m \u001b[1m0s\u001b[0m 19ms/step - loss: 84.8862\n",
            "Epoch 32: val_loss improved from 106.23920 to 94.48831, saving model to best_lstm_model.keras\n",
            "\u001b[1m221/221\u001b[0m \u001b[32m━━━━━━━━━━━━━━━━━━━━\u001b[0m\u001b[37m\u001b[0m \u001b[1m5s\u001b[0m 22ms/step - loss: 84.8824 - val_loss: 94.4883 - learning_rate: 0.0010\n",
            "Epoch 33/50\n",
            "\u001b[1m218/221\u001b[0m \u001b[32m━━━━━━━━━━━━━━━━━━━\u001b[0m\u001b[37m━\u001b[0m \u001b[1m0s\u001b[0m 19ms/step - loss: 83.0719\n",
            "Epoch 33: val_loss improved from 94.48831 to 90.69772, saving model to best_lstm_model.keras\n",
            "\u001b[1m221/221\u001b[0m \u001b[32m━━━━━━━━━━━━━━━━━━━━\u001b[0m\u001b[37m\u001b[0m \u001b[1m5s\u001b[0m 22ms/step - loss: 83.0227 - val_loss: 90.6977 - learning_rate: 0.0010\n",
            "Epoch 34/50\n",
            "\u001b[1m218/221\u001b[0m \u001b[32m━━━━━━━━━━━━━━━━━━━\u001b[0m\u001b[37m━\u001b[0m \u001b[1m0s\u001b[0m 27ms/step - loss: 78.8339\n",
            "Epoch 34: val_loss improved from 90.69772 to 88.04113, saving model to best_lstm_model.keras\n",
            "\u001b[1m221/221\u001b[0m \u001b[32m━━━━━━━━━━━━━━━━━━━━\u001b[0m\u001b[37m\u001b[0m \u001b[1m6s\u001b[0m 29ms/step - loss: 78.8709 - val_loss: 88.0411 - learning_rate: 0.0010\n",
            "Epoch 35/50\n",
            "\u001b[1m218/221\u001b[0m \u001b[32m━━━━━━━━━━━━━━━━━━━\u001b[0m\u001b[37m━\u001b[0m \u001b[1m0s\u001b[0m 19ms/step - loss: 74.5884\n",
            "Epoch 35: val_loss improved from 88.04113 to 83.78668, saving model to best_lstm_model.keras\n",
            "\u001b[1m221/221\u001b[0m \u001b[32m━━━━━━━━━━━━━━━━━━━━\u001b[0m\u001b[37m\u001b[0m \u001b[1m5s\u001b[0m 21ms/step - loss: 74.5915 - val_loss: 83.7867 - learning_rate: 0.0010\n",
            "Epoch 36/50\n",
            "\u001b[1m220/221\u001b[0m \u001b[32m━━━━━━━━━━━━━━━━━━━\u001b[0m\u001b[37m━\u001b[0m \u001b[1m0s\u001b[0m 22ms/step - loss: 68.6901\n",
            "Epoch 36: val_loss improved from 83.78668 to 78.94476, saving model to best_lstm_model.keras\n",
            "\u001b[1m221/221\u001b[0m \u001b[32m━━━━━━━━━━━━━━━━━━━━\u001b[0m\u001b[37m\u001b[0m \u001b[1m6s\u001b[0m 28ms/step - loss: 68.6898 - val_loss: 78.9448 - learning_rate: 0.0010\n",
            "Epoch 37/50\n",
            "\u001b[1m219/221\u001b[0m \u001b[32m━━━━━━━━━━━━━━━━━━━\u001b[0m\u001b[37m━\u001b[0m \u001b[1m0s\u001b[0m 28ms/step - loss: 67.1047\n",
            "Epoch 37: val_loss improved from 78.94476 to 74.22832, saving model to best_lstm_model.keras\n",
            "\u001b[1m221/221\u001b[0m \u001b[32m━━━━━━━━━━━━━━━━━━━━\u001b[0m\u001b[37m\u001b[0m \u001b[1m7s\u001b[0m 31ms/step - loss: 67.0946 - val_loss: 74.2283 - learning_rate: 0.0010\n",
            "Epoch 38/50\n",
            "\u001b[1m220/221\u001b[0m \u001b[32m━━━━━━━━━━━━━━━━━━━\u001b[0m\u001b[37m━\u001b[0m \u001b[1m0s\u001b[0m 19ms/step - loss: 60.8212\n",
            "Epoch 38: val_loss improved from 74.22832 to 67.96543, saving model to best_lstm_model.keras\n",
            "\u001b[1m221/221\u001b[0m \u001b[32m━━━━━━━━━━━━━━━━━━━━\u001b[0m\u001b[37m\u001b[0m \u001b[1m5s\u001b[0m 22ms/step - loss: 60.8087 - val_loss: 67.9654 - learning_rate: 0.0010\n",
            "Epoch 39/50\n",
            "\u001b[1m219/221\u001b[0m \u001b[32m━━━━━━━━━━━━━━━━━━━\u001b[0m\u001b[37m━\u001b[0m \u001b[1m0s\u001b[0m 24ms/step - loss: 59.6567\n",
            "Epoch 39: val_loss did not improve from 67.96543\n",
            "\u001b[1m221/221\u001b[0m \u001b[32m━━━━━━━━━━━━━━━━━━━━\u001b[0m\u001b[37m\u001b[0m \u001b[1m7s\u001b[0m 30ms/step - loss: 59.6397 - val_loss: 77.5919 - learning_rate: 0.0010\n",
            "Epoch 40/50\n",
            "\u001b[1m220/221\u001b[0m \u001b[32m━━━━━━━━━━━━━━━━━━━\u001b[0m\u001b[37m━\u001b[0m \u001b[1m0s\u001b[0m 19ms/step - loss: 56.2723\n",
            "Epoch 40: val_loss improved from 67.96543 to 62.91636, saving model to best_lstm_model.keras\n",
            "\u001b[1m221/221\u001b[0m \u001b[32m━━━━━━━━━━━━━━━━━━━━\u001b[0m\u001b[37m\u001b[0m \u001b[1m8s\u001b[0m 21ms/step - loss: 56.2588 - val_loss: 62.9164 - learning_rate: 0.0010\n",
            "Epoch 41/50\n",
            "\u001b[1m220/221\u001b[0m \u001b[32m━━━━━━━━━━━━━━━━━━━\u001b[0m\u001b[37m━\u001b[0m \u001b[1m0s\u001b[0m 27ms/step - loss: 55.8033\n",
            "Epoch 41: val_loss improved from 62.91636 to 58.47544, saving model to best_lstm_model.keras\n",
            "\u001b[1m221/221\u001b[0m \u001b[32m━━━━━━━━━━━━━━━━━━━━\u001b[0m\u001b[37m\u001b[0m \u001b[1m7s\u001b[0m 30ms/step - loss: 55.7857 - val_loss: 58.4754 - learning_rate: 0.0010\n",
            "Epoch 42/50\n",
            "\u001b[1m221/221\u001b[0m \u001b[32m━━━━━━━━━━━━━━━━━━━━\u001b[0m\u001b[37m\u001b[0m \u001b[1m0s\u001b[0m 19ms/step - loss: 50.3357\n",
            "Epoch 42: val_loss did not improve from 58.47544\n",
            "\u001b[1m221/221\u001b[0m \u001b[32m━━━━━━━━━━━━━━━━━━━━\u001b[0m\u001b[37m\u001b[0m \u001b[1m5s\u001b[0m 21ms/step - loss: 50.3338 - val_loss: 58.7600 - learning_rate: 0.0010\n",
            "Epoch 43/50\n",
            "\u001b[1m219/221\u001b[0m \u001b[32m━━━━━━━━━━━━━━━━━━━\u001b[0m\u001b[37m━\u001b[0m \u001b[1m0s\u001b[0m 19ms/step - loss: 49.2729\n",
            "Epoch 43: val_loss improved from 58.47544 to 53.65658, saving model to best_lstm_model.keras\n",
            "\u001b[1m221/221\u001b[0m \u001b[32m━━━━━━━━━━━━━━━━━━━━\u001b[0m\u001b[37m\u001b[0m \u001b[1m5s\u001b[0m 23ms/step - loss: 49.2516 - val_loss: 53.6566 - learning_rate: 0.0010\n",
            "Epoch 44/50\n",
            "\u001b[1m218/221\u001b[0m \u001b[32m━━━━━━━━━━━━━━━━━━━\u001b[0m\u001b[37m━\u001b[0m \u001b[1m0s\u001b[0m 26ms/step - loss: 48.5489\n",
            "Epoch 44: val_loss did not improve from 53.65658\n",
            "\u001b[1m221/221\u001b[0m \u001b[32m━━━━━━━━━━━━━━━━━━━━\u001b[0m\u001b[37m\u001b[0m \u001b[1m6s\u001b[0m 28ms/step - loss: 48.5425 - val_loss: 53.8304 - learning_rate: 0.0010\n",
            "Epoch 45/50\n",
            "\u001b[1m220/221\u001b[0m \u001b[32m━━━━━━━━━━━━━━━━━━━\u001b[0m\u001b[37m━\u001b[0m \u001b[1m0s\u001b[0m 21ms/step - loss: 44.4857\n",
            "Epoch 45: val_loss improved from 53.65658 to 46.84200, saving model to best_lstm_model.keras\n",
            "\u001b[1m221/221\u001b[0m \u001b[32m━━━━━━━━━━━━━━━━━━━━\u001b[0m\u001b[37m\u001b[0m \u001b[1m10s\u001b[0m 27ms/step - loss: 44.4908 - val_loss: 46.8420 - learning_rate: 0.0010\n",
            "Epoch 46/50\n",
            "\u001b[1m219/221\u001b[0m \u001b[32m━━━━━━━━━━━━━━━━━━━\u001b[0m\u001b[37m━\u001b[0m \u001b[1m0s\u001b[0m 20ms/step - loss: 42.1731\n",
            "Epoch 46: val_loss did not improve from 46.84200\n",
            "\u001b[1m221/221\u001b[0m \u001b[32m━━━━━━━━━━━━━━━━━━━━\u001b[0m\u001b[37m\u001b[0m \u001b[1m9s\u001b[0m 22ms/step - loss: 42.1804 - val_loss: 47.9462 - learning_rate: 0.0010\n",
            "Epoch 47/50\n",
            "\u001b[1m220/221\u001b[0m \u001b[32m━━━━━━━━━━━━━━━━━━━\u001b[0m\u001b[37m━\u001b[0m \u001b[1m0s\u001b[0m 27ms/step - loss: 40.7453\n",
            "Epoch 47: val_loss improved from 46.84200 to 45.74950, saving model to best_lstm_model.keras\n",
            "\u001b[1m221/221\u001b[0m \u001b[32m━━━━━━━━━━━━━━━━━━━━\u001b[0m\u001b[37m\u001b[0m \u001b[1m7s\u001b[0m 30ms/step - loss: 40.7470 - val_loss: 45.7495 - learning_rate: 0.0010\n",
            "Epoch 48/50\n",
            "\u001b[1m220/221\u001b[0m \u001b[32m━━━━━━━━━━━━━━━━━━━\u001b[0m\u001b[37m━\u001b[0m \u001b[1m0s\u001b[0m 19ms/step - loss: 39.8014\n",
            "Epoch 48: val_loss did not improve from 45.74950\n",
            "\u001b[1m221/221\u001b[0m \u001b[32m━━━━━━━━━━━━━━━━━━━━\u001b[0m\u001b[37m\u001b[0m \u001b[1m5s\u001b[0m 21ms/step - loss: 39.8275 - val_loss: 50.6876 - learning_rate: 0.0010\n",
            "Epoch 49/50\n",
            "\u001b[1m219/221\u001b[0m \u001b[32m━━━━━━━━━━━━━━━━━━━\u001b[0m\u001b[37m━\u001b[0m \u001b[1m0s\u001b[0m 19ms/step - loss: 39.1131\n",
            "Epoch 49: val_loss improved from 45.74950 to 43.05379, saving model to best_lstm_model.keras\n",
            "\u001b[1m221/221\u001b[0m \u001b[32m━━━━━━━━━━━━━━━━━━━━\u001b[0m\u001b[37m\u001b[0m \u001b[1m5s\u001b[0m 22ms/step - loss: 39.1182 - val_loss: 43.0538 - learning_rate: 0.0010\n",
            "Epoch 50/50\n",
            "\u001b[1m221/221\u001b[0m \u001b[32m━━━━━━━━━━━━━━━━━━━━\u001b[0m\u001b[37m\u001b[0m \u001b[1m0s\u001b[0m 26ms/step - loss: 38.4090\n",
            "Epoch 50: val_loss did not improve from 43.05379\n",
            "\u001b[1m221/221\u001b[0m \u001b[32m━━━━━━━━━━━━━━━━━━━━\u001b[0m\u001b[37m\u001b[0m \u001b[1m6s\u001b[0m 28ms/step - loss: 38.4201 - val_loss: 43.5743 - learning_rate: 0.0010\n",
            "Restoring model weights from the end of the best epoch: 49.\n"
          ]
        }
      ],
      "source": [
        "history = model.fit(\n",
        "    train_dataset,\n",
        "    epochs=50,\n",
        "    validation_data=val_dataset,\n",
        "    callbacks=[early_stop, reduce_lr, model_ckpt]\n",
        ")"
      ]
    },
    {
      "cell_type": "markdown",
      "id": "0f50c569",
      "metadata": {
        "id": "0f50c569"
      },
      "source": [
        "9. Plot training and validation loss curve function"
      ]
    },
    {
      "cell_type": "code",
      "source": [
        "#Training and Validation Curves\n",
        "plt.figure(figsize=(8,5))\n",
        "plt.plot(history.history['loss'], label='Train Loss')\n",
        "plt.plot(history.history['val_loss'], label='Validation Loss')\n",
        "plt.title(\"Training & Validation Loss\")\n",
        "plt.xlabel(\"Epoch\")\n",
        "plt.ylabel(\"MSE Loss\")\n",
        "plt.legend()\n",
        "plt.show()"
      ],
      "metadata": {
        "colab": {
          "base_uri": "https://localhost:8080/",
          "height": 487
        },
        "id": "RLJVvUMib2q5",
        "outputId": "0f1bece4-43b8-4119-fc4b-9d806408c9b7"
      },
      "id": "RLJVvUMib2q5",
      "execution_count": 20,
      "outputs": [
        {
          "output_type": "display_data",
          "data": {
            "text/plain": [
              "<Figure size 800x500 with 1 Axes>"
            ],
            "image/png": "[encoded data removed]"
          },
          "metadata": {}
        }
      ]
    },
    {
      "cell_type": "markdown",
      "id": "9d5a8fc2",
      "metadata": {
        "id": "9d5a8fc2"
      },
      "source": [
        "10. Provide Final Report of this Experiement."
      ]
    },
    {
      "cell_type": "markdown",
      "source": [
        "# **LSTM Model Training**\n",
        "\n",
        "\n",
        "*   Defined a simple LSTM model with:\n",
        "\n",
        "      *   One LSTM layer (64 units) with tanh activation.\n",
        "      *   One dense output layer for regression output (RUL prediction).\n",
        "\n",
        "\n",
        "*   Compiled the model with Adam optimizer and Mean Squared Error (MSE) loss.\n",
        "\n",
        "\n",
        "*  Implemented training with these callbacks:\n",
        "\n",
        "    *   EarlyStopping with patience of 8 epochs to prevent overfitting.\n",
        "    *   ReduceLROnPlateau to reduce learning rate by half if validation loss plateaued for 4 epochs.\n",
        "\n",
        "    *   ModelCheckpoint to save the best model based on validation loss in best_lstm_model.keras.\n",
        "\n",
        "\n",
        "\n",
        "*   Trained the model for up to 50 epochs with batch size 64.\n",
        "*   Observed steady convergence in training and validation losses, indicating effective learning.\n",
        "\n",
        "\n",
        "---\n",
        "# **Model Performance**\n",
        "\n",
        "\n",
        "\n",
        "*   The training and validation loss curves confirm the model's ability to learn temporal dependencies and generalize well.\n",
        "\n",
        "\n",
        "*   The best model checkpoint was saved for downstream evaluation and deployment.\n",
        "\n",
        "\n",
        "\n",
        "\n",
        "\n",
        "\n"
      ],
      "metadata": {
        "id": "NU5Hz3Gkcuyj"
      },
      "id": "NU5Hz3Gkcuyj"
    }
  ],
  "metadata": {
    "language_info": {
      "name": "python"
    },
    "colab": {
      "provenance": []
    },
    "kernelspec": {
      "name": "python3",
      "display_name": "Python 3"
    }
  },
  "nbformat": 4,
  "nbformat_minor": 5
}