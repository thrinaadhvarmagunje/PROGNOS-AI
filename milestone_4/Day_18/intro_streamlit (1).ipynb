{
 "cells": [
  {
   "cell_type": "markdown",
   "id": "e9f21589",
   "metadata": {},
   "source": [
    "### Streamlit\n",
    "`streamlit` is an open-source Python framework designed to help data scientists and AI/ML engineers quickly build and share interactive web applications with very few lines of code. It enables creation of dynamic data apps, dashboards, and user interfaces without requiring expertise in front-end technologies like HTML, CSS, or JavaScript.\n",
    "\n",
    "- Definition:\n",
    "`streamlit` lets you transform Python scripts into interactive web apps rapidly. This makes it ideal for building dashboards, reports, machine learning model demos, and data visualization tools in a simple and Pythonic way. By running the Python script with Streamlit, it launches a local web server and renders the app in a browser, allowing live interaction and instant feedback.\n",
    "\n",
    "- Key Features:\n",
    "  - Simple and Pythonic: Write apps with pure Python code using an intuitive API.\n",
    "\n",
    "  - Fast Prototyping: Build interactive data apps in minutes rather than weeks.\n",
    "\n",
    "  - Live Editing: Apps update instantly as you modify the script.\n",
    "\n",
    "  - Widgets for Interaction: Includes buttons, sliders, text input, file uploaders, and more to capture user input.\n",
    "\n",
    "  - Rich Media Support: Supports text, markdown, code, LaTeX, images, audio, and video display.\n",
    "\n",
    "  - Layout Options: Columns, sidebar, expanders for flexible user interface design.\n",
    "\n",
    "  - State Management: Maintains widget and app state across user interactions.\n",
    "\n",
    "  - Animations and Feedback: Progress bars, spinners, and balloons to enhance user experience.\n",
    "\n",
    "  - Data Visualization: Easily integrate charts and dataframes.\n",
    "\n",
    "  - Open Source and Extensible: Active community with many add-ons and integrations.\n",
    "\n",
    "  - Deployment Options: Can be deployed locally, on cloud platforms, or enterprise solutions like Streamlit Cloud or Snowflake.\n",
    "\n",
    "These features make Streamlit a popular choice for quickly transforming Python data scripts into professional interactive applications with minimal effort."
   ]
  },
  {
   "cell_type": "markdown",
   "id": "a51c7c22",
   "metadata": {},
   "source": [
    "#### 1. Title, Header, Subheader, and Text"
   ]
  },
  {
   "cell_type": "code",
   "execution_count": null,
   "id": "eb6ba671",
   "metadata": {},
   "outputs": [],
   "source": [
    "import streamlit as st # Import streamlit library\n",
    "st.title('This is a Title')\n",
    "st.header('This is a Header')\n",
    "st.subheader('This is a Subheader')\n",
    "st.text('This is a standard text message.')"
   ]
  },
  {
   "cell_type": "markdown",
   "id": "e6df8043",
   "metadata": {},
   "source": [
    "These are used to add textual headings and plain text to the app.\n",
    "\n",
    "- `title` displays the largest heading.\n",
    "\n",
    "- `header` is slightly smaller.\n",
    "\n",
    "- `subheader` is smaller than header but larger than normal text.\n",
    "\n",
    "- `text` displays simple unformatted text."
   ]
  },
  {
   "cell_type": "markdown",
   "id": "d5c21fdb",
   "metadata": {},
   "source": [
    "#### 2. Markdown, Code, LaTeX, and Write"
   ]
  },
  {
   "cell_type": "code",
   "execution_count": null,
   "id": "5f75dd59",
   "metadata": {},
   "outputs": [],
   "source": [
    "st.markdown('# Markdown Title\\nSome **bold** and _italic_ text.')\n",
    "st.code('print(\"Hello, Streamlit!\")', language='python')\n",
    "st.latex('e^{i\\\\pi} + 1 = 0')\n",
    "st.write('Write can display various data types including text, numbers, and dataframes')"
   ]
  },
  {
   "cell_type": "markdown",
   "id": "c233496f",
   "metadata": {},
   "source": [
    "- `markdown` allows rich-formatted text using Markdown syntax. Here it shows a big header and inline formatting like bold and italics.\n",
    "\n",
    "- `code` displays syntax-highlighted code blocks. The language param helps to highlight Python keywords.\n",
    "\n",
    "- `latex` renders mathematical formulas using LaTeX syntax.\n",
    "\n",
    "- `write` is a flexible shortcut that can display many object types: strings, numbers, lists, dataframes, plots, etc."
   ]
  },
  {
   "cell_type": "markdown",
   "id": "bf12aa08",
   "metadata": {},
   "source": [
    "#### 3. Interactive Widgets Section\n",
    "\n",
    "This block demonstrates various input widgets that capture user interactions."
   ]
  },
  {
   "cell_type": "code",
   "execution_count": null,
   "id": "c9952291",
   "metadata": {},
   "outputs": [],
   "source": [
    "if st.button('Click me'):\n",
    "    st.write('Button clicked!')"
   ]
  },
  {
   "cell_type": "markdown",
   "id": "669d0787",
   "metadata": {},
   "source": [
    "- `button`: a clickable button that triggers an action when clicked."
   ]
  },
  {
   "cell_type": "code",
   "execution_count": null,
   "id": "6a7cfda5",
   "metadata": {},
   "outputs": [],
   "source": [
    "if st.checkbox('Check me'):\n",
    "    st.write('Checkbox is checked')"
   ]
  },
  {
   "cell_type": "markdown",
   "id": "dbf0ef99",
   "metadata": {},
   "source": [
    "- `checkbox`: toggles between checked/unchecked states, useful for boolean choice."
   ]
  },
  {
   "cell_type": "code",
   "execution_count": null,
   "id": "38a07c97",
   "metadata": {},
   "outputs": [],
   "source": [
    "choice = st.radio('Choose one:', ['Option 1', 'Option 2'])\n",
    "st.write(f'You chose {choice}')"
   ]
  },
  {
   "cell_type": "markdown",
   "id": "53307302",
   "metadata": {},
   "source": [
    "- `radio`: presents exclusive options where user selects one."
   ]
  },
  {
   "cell_type": "code",
   "execution_count": null,
   "id": "73ad8a28",
   "metadata": {},
   "outputs": [],
   "source": [
    "option = st.selectbox('Select:', ['A', 'B', 'C'])\n",
    "st.write(f'Selected {option}')"
   ]
  },
  {
   "cell_type": "markdown",
   "id": "15ef3321",
   "metadata": {},
   "source": [
    "- `selectbox`: dropdown for selecting a single value."
   ]
  },
  {
   "cell_type": "code",
   "execution_count": null,
   "id": "03da267f",
   "metadata": {},
   "outputs": [],
   "source": [
    "options = st.multiselect('Select multiple:', ['A', 'B', 'C'])\n",
    "st.write(f'Selected {options}')"
   ]
  },
  {
   "cell_type": "markdown",
   "id": "8c4591aa",
   "metadata": {},
   "source": [
    "- `multiselect`: dropdown for selecting multiple values."
   ]
  },
  {
   "cell_type": "code",
   "execution_count": null,
   "id": "7ba82133",
   "metadata": {},
   "outputs": [],
   "source": [
    "val = st.slider('Slide me', 0, 100, 25)\n",
    "st.write(f'Slider value {val}')"
   ]
  },
  {
   "cell_type": "markdown",
   "id": "a47e05cb",
   "metadata": {},
   "source": [
    "- `slider`: numeric input with a draggable slider. Here range is 0-100 with default 25."
   ]
  },
  {
   "cell_type": "code",
   "execution_count": null,
   "id": "2cd9610c",
   "metadata": {},
   "outputs": [],
   "source": [
    "text = st.text_input('Enter text:')\n",
    "st.write(f'Your input: {text}')"
   ]
  },
  {
   "cell_type": "markdown",
   "id": "a871ac20",
   "metadata": {},
   "source": [
    "- `text_input`: single line text from user."
   ]
  },
  {
   "cell_type": "code",
   "execution_count": null,
   "id": "ea69fe98",
   "metadata": {},
   "outputs": [],
   "source": [
    "num = st.number_input('Enter a number:', 0, 100)\n",
    "st.write(f'Number: {num}')"
   ]
  },
  {
   "cell_type": "markdown",
   "id": "7d2c6e65",
   "metadata": {},
   "source": [
    "- `number_input`: numeric input with specified range."
   ]
  },
  {
   "cell_type": "code",
   "execution_count": null,
   "id": "5915d2a2",
   "metadata": {},
   "outputs": [],
   "source": [
    "date = st.date_input('Pick a date')\n",
    "st.write(f'Date selected: {date}')"
   ]
  },
  {
   "cell_type": "markdown",
   "id": "55db8f1a",
   "metadata": {},
   "source": [
    "- `date_input`: calendar date picker."
   ]
  },
  {
   "cell_type": "code",
   "execution_count": null,
   "id": "7ddd81ce",
   "metadata": {},
   "outputs": [],
   "source": [
    "time_val = st.time_input('Pick a time')\n",
    "st.write(f'Time selected: {time_val}')"
   ]
  },
  {
   "cell_type": "markdown",
   "id": "b142f07e",
   "metadata": {},
   "source": [
    "- `time_input`: time picker widget."
   ]
  },
  {
   "cell_type": "markdown",
   "id": "7b1bf1b3",
   "metadata": {},
   "source": [
    "#### 4. File and Media Inputs"
   ]
  },
  {
   "cell_type": "code",
   "execution_count": null,
   "id": "7eece457",
   "metadata": {},
   "outputs": [],
   "source": [
    "file = st.file_uploader('Upload file')\n",
    "if file:\n",
    "    st.write(f'Filename: {file.name}')"
   ]
  },
  {
   "cell_type": "markdown",
   "id": "79ca666b",
   "metadata": {},
   "source": [
    "- Let users upload files from their systems.\n",
    "- Files can be further processed if uploaded."
   ]
  },
  {
   "cell_type": "code",
   "execution_count": null,
   "id": "b4a4902d",
   "metadata": {},
   "outputs": [],
   "source": [
    "img = st.camera_input('Take a picture')\n",
    "if img:\n",
    "    st.image(img)"
   ]
  },
  {
   "cell_type": "markdown",
   "id": "36fb741a",
   "metadata": {},
   "source": [
    "- Access webcam to take pictures, then display them."
   ]
  },
  {
   "cell_type": "code",
   "execution_count": null,
   "id": "16f9ec63",
   "metadata": {},
   "outputs": [],
   "source": [
    "color = st.color_picker('Pick a color')\n",
    "st.write(f'Color: {color}')"
   ]
  },
  {
   "cell_type": "markdown",
   "id": "d197c58e",
   "metadata": {},
   "source": [
    "- Displays color picker wheel to choose a color; returns hex color code."
   ]
  },
  {
   "cell_type": "markdown",
   "id": "3523cdba",
   "metadata": {},
   "source": [
    "#### 5. Layout & Animation"
   ]
  },
  {
   "cell_type": "code",
   "execution_count": null,
   "id": "c24b02d5",
   "metadata": {},
   "outputs": [],
   "source": [
    "col1, col2 = st.columns(2)\n",
    "col1.write('Column 1')\n",
    "col2.write('Column 2')"
   ]
  },
  {
   "cell_type": "markdown",
   "id": "3568787b",
   "metadata": {},
   "source": [
    "- Splits content horizontally into two columns for better layout."
   ]
  },
  {
   "cell_type": "code",
   "execution_count": null,
   "id": "de262617",
   "metadata": {},
   "outputs": [],
   "source": [
    "with st.expander('Expand me'):\n",
    "    st.write('Hidden text here')"
   ]
  },
  {
   "cell_type": "markdown",
   "id": "50cc1be9",
   "metadata": {},
   "source": [
    "- Creates a collapsible section that hides contents until expanded."
   ]
  },
  {
   "cell_type": "code",
   "execution_count": null,
   "id": "526cff35",
   "metadata": {},
   "outputs": [],
   "source": [
    "with st.sidebar:\n",
    "    st.write('Sidebar content here')"
   ]
  },
  {
   "cell_type": "markdown",
   "id": "d2de99a9",
   "metadata": {},
   "source": [
    "- Adds elements inside a sidebar panel that is separate from main page."
   ]
  },
  {
   "cell_type": "code",
   "execution_count": null,
   "id": "0d0c144e",
   "metadata": {},
   "outputs": [],
   "source": [
    "st.balloons()"
   ]
  },
  {
   "cell_type": "markdown",
   "id": "8a2ff1d4",
   "metadata": {},
   "source": [
    "- Celebratory balloon animation, typically for success indication."
   ]
  },
  {
   "cell_type": "code",
   "execution_count": null,
   "id": "4b4cab5b",
   "metadata": {},
   "outputs": [],
   "source": [
    "import time\n",
    "with st.spinner('Loading...'):\n",
    "    time.sleep(2)\n",
    "st.write('Done!')"
   ]
  },
  {
   "cell_type": "markdown",
   "id": "0dd24582",
   "metadata": {},
   "source": [
    "- Shows a loading spinner for blocking operations to improve UX."
   ]
  },
  {
   "cell_type": "code",
   "execution_count": null,
   "id": "82ddcefb",
   "metadata": {},
   "outputs": [],
   "source": [
    "progress = st.progress(0)\n",
    "for i in range(100):\n",
    "    progress.progress(i + 1)\n",
    "st.write('Progress complete')"
   ]
  },
  {
   "cell_type": "markdown",
   "id": "c9349066",
   "metadata": {},
   "source": [
    "- Progress bar that can be updated dynamically."
   ]
  },
  {
   "cell_type": "code",
   "execution_count": null,
   "id": "4efa5d0a",
   "metadata": {},
   "outputs": [],
   "source": [
    "st.metric(label='Temperature', value='70 °F', delta='-5 °F')"
   ]
  },
  {
   "cell_type": "markdown",
   "id": "06414cb0",
   "metadata": {},
   "source": [
    "- Shows a metric with a main value and an optional delta indicating change from a previous number."
   ]
  }
 ],
 "metadata": {
  "kernelspec": {
   "display_name": "Python 3",
   "language": "python",
   "name": "python3"
  },
  "language_info": {
   "codemirror_mode": {
    "name": "ipython",
    "version": 3
   },
   "file_extension": ".py",
   "mimetype": "text/x-python",
   "name": "python",
   "nbconvert_exporter": "python",
   "pygments_lexer": "ipython3",
   "version": "3.11.9"
  }
 },
 "nbformat": 4,
 "nbformat_minor": 5
}
